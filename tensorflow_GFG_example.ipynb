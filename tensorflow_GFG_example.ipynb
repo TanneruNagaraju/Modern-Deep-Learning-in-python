{
 "cells": [
  {
   "cell_type": "code",
   "execution_count": 2,
   "metadata": {},
   "outputs": [],
   "source": [
    "import numpy as np\n",
    "import matplotlib.pyplot as plt\n",
    "import tensorflow as tf"
   ]
  },
  {
   "cell_type": "code",
   "execution_count": 11,
   "metadata": {},
   "outputs": [
    {
     "name": "stdout",
     "output_type": "stream",
     "text": [
      "Epoch :  0 cost :  1.0872625 weights :  0.17215814 biases :  -0.1154077\n",
      "Epoch :  200 cost :  0.10677949 weights :  0.34958768 biases :  0.104360245\n",
      "Epoch :  400 cost :  0.09529262 weights :  0.32846314 biases :  0.25412372\n",
      "Epoch :  600 cost :  0.08822603 weights :  0.31189436 biases :  0.37158912\n",
      "Epoch :  800 cost :  0.08387874 weights :  0.29889876 biases :  0.4637219\n",
      "Epoch :  1000 cost :  0.081204355 weights :  0.28870586 biases :  0.5359852\n",
      "Epoch :  1200 cost :  0.07955909 weights :  0.2807111 biases :  0.59266406\n",
      "Epoch :  1400 cost :  0.07854695 weights :  0.2744406 biases :  0.63711953\n",
      "Epoch :  1600 cost :  0.07792426 weights :  0.26952228 biases :  0.671988\n",
      "Epoch :  1800 cost :  0.077541225 weights :  0.26566473 biases :  0.69933635\n",
      "optimizer finished\n",
      "Final traing cost :  0.077306494 weights :  0.2626524 bias :  0.7206924\n"
     ]
    },
    {
     "data": {
      "image/png": "[encoded data removed]",
      "text/plain": [
       "<Figure size 432x288 with 1 Axes>"
      ]
     },
     "metadata": {
      "needs_background": "light"
     },
     "output_type": "display_data"
    },
    {
     "name": "stdout",
     "output_type": "stream",
     "text": [
      "Testing cost 0.035985343\n",
      "Absolute difference 0.04132115\n"
     ]
    },
    {
     "data": {
      "image/png": "[encoded data removed]",
      "text/plain": [
       "<Figure size 432x288 with 1 Axes>"
      ]
     },
     "metadata": {
      "needs_background": "light"
     },
     "output_type": "display_data"
    }
   ],
   "source": [
    "#training data\n",
    "train_X = np.asarray([3.3,4.4,5.5,6.71,6.93,4.168,9.779,6.182,7.59,2.167,7.042,10.791,5.313,7.997,5.654,9.27,3.1])\n",
    "train_Y = np.asarray([1.7,2.76,2.09,3.19,1.694,1.573,3.366,2.596,2.53,1.221,2.827,3.465,1.65,2.904,2.42,2.94,1.3]) \n",
    "\n",
    "#testing data\n",
    "test_X = np.asarray([6.83, 4.668, 8.9, 7.91, 5.7, 8.7, 3.1, 2.1])\n",
    "test_Y = np.asarray([1.84, 2.273, 3.2, 2.831, 2.92, 3.24, 1.35, 1.03])\n",
    "\n",
    "#inputs and targets\n",
    "X = tf.placeholder(tf.float32)\n",
    "Y = tf.placeholder(tf.float32)\n",
    "\n",
    "#weights and bias\n",
    "W = tf.Variable(np.random.randn(),name='weights')\n",
    "b = tf.Variable(np.random.randn(),name = 'bias')\n",
    "\n",
    "lr = 0.01\n",
    "training_epochs = 2000\n",
    "display_step = 200\n",
    "n_samples = train_X.shape[0]\n",
    "\n",
    "\n",
    "#model \n",
    "linear_model = W*X+b\n",
    "\n",
    "#mean_squared_error\n",
    "cost = tf.reduce_sum(tf.square(linear_model - Y)) / (2*n_samples)\n",
    "\n",
    "#optimizer\n",
    "optimizer = tf.train.GradientDescentOptimizer(lr).minimize(cost)\n",
    "\n",
    "#initializing variables\n",
    "init = tf.global_variables_initializer()\n",
    "\n",
    "#creating session\n",
    "\n",
    "sess = tf.Session()\n",
    "sess.run(init)\n",
    "\n",
    "\n",
    "for epoch in range(training_epochs):\n",
    "    sess.run(optimizer,feed_dict = {X:train_X,Y:train_Y})\n",
    "    \n",
    "    if epoch % display_step == 0:\n",
    "        c = sess.run(cost,feed_dict = {X:train_X,Y:train_Y})\n",
    "        print(\"Epoch : \",epoch,\"cost : \",c,\"weights : \",sess.run(W),\"biases : \",sess.run(b))\n",
    "        \n",
    "print(\"optimizer finished\")\n",
    "training_cost =  sess.run(cost,feed_dict = {X:train_X,Y:train_Y})\n",
    "print(\"Final traing cost : \",training_cost,\"weights : \",sess.run(W),\"bias : \",sess.run(b))\n",
    "\n",
    "\n",
    "#visualization for original data\n",
    "\n",
    "plt.plot(train_X,train_Y,'ro',label = \"original data\")\n",
    "plt.plot(train_X,sess.run(W)*train_X+sess.run(b),label = 'Fitted line')\n",
    "plt.legend()\n",
    "plt.show()\n",
    "\n",
    "\n",
    "#testing model\n",
    "n_samples1 = test_X.shape[0]\n",
    "cost1 = tf.reduce_sum(tf.square(linear_model - Y))/(2*n_samples1)\n",
    "testing_cost = sess.run(cost,feed_dict = {X:test_X,Y:test_Y})\n",
    "print(\"Testing cost\",testing_cost)\n",
    "\n",
    "#absolute difference\n",
    "print(\"Absolute difference\",abs(training_cost - testing_cost))\n",
    "\n",
    "\n",
    "plt.plot(test_X,test_Y,'bo',label = 'Testing data')\n",
    "plt.plot(test_X,sess.run(W)*test_X+sess.run(b),label = 'Fitted line')\n",
    "plt.legend()\n",
    "plt.show()\n",
    "\n"
   ]
  },
  {
   "cell_type": "code",
   "execution_count": null,
   "metadata": {},
   "outputs": [],
   "source": []
  }
 ],
 "metadata": {
  "kernelspec": {
   "display_name": "Python 3",
   "language": "python",
   "name": "python3"
  },
  "language_info": {
   "codemirror_mode": {
    "name": "ipython",
    "version": 3
   },
   "file_extension": ".py",
   "mimetype": "text/x-python",
   "name": "python",
   "nbconvert_exporter": "python",
   "pygments_lexer": "ipython3",
   "version": "3.7.6"
  }
 },
 "nbformat": 4,
 "nbformat_minor": 4
}
