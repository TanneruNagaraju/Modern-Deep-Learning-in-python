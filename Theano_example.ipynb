{
 "cells": [
  {
   "cell_type": "code",
   "execution_count": 2,
   "metadata": {},
   "outputs": [],
   "source": [
    "from theano import *\n",
    "import numpy as np\n",
    "import theano as t"
   ]
  },
  {
   "cell_type": "code",
   "execution_count": 3,
   "metadata": {},
   "outputs": [],
   "source": [
    "x = tensor.fvector('x') #inputs\n",
    "target = tensor.fscalar('target') #targets"
   ]
  },
  {
   "cell_type": "code",
   "execution_count": 5,
   "metadata": {},
   "outputs": [
    {
     "name": "stdout",
     "output_type": "stream",
     "text": [
      "Before update [0.1  0.25 0.15 0.3 ]\n"
     ]
    }
   ],
   "source": [
    "W = theano.shared(np.asarray([0.1,0.25,0.15,0.3]),'W') # initial weights \n",
    "print(\"Before update\",W.get_value())"
   ]
  },
  {
   "cell_type": "code",
   "execution_count": 7,
   "metadata": {},
   "outputs": [],
   "source": [
    "y = (x*W).sum() # output\n",
    "cost = tensor.sqr(target - y) # cost function\n",
    "gradient = tensor.grad(cost,[W]) # gradient descent\n",
    "W_updates = W - (0.1*gradient[0]) #weight updation\n",
    "updates = [(W,W_updates)] # assigning values to W"
   ]
  },
  {
   "cell_type": "code",
   "execution_count": 8,
   "metadata": {},
   "outputs": [],
   "source": [
    "f = function([x,target],y,updates = updates)"
   ]
  },
  {
   "cell_type": "code",
   "execution_count": 9,
   "metadata": {},
   "outputs": [
    {
     "name": "stdout",
     "output_type": "stream",
     "text": [
      "iteration 0\n",
      "Weights updation [19.94 20.09 19.99 20.14]\n",
      "output 0.8\n",
      "iteration 1\n",
      "Weights updation [23.908 24.058 23.958 24.108]\n",
      "output 80.16000000000001\n",
      "iteration 2\n",
      "Weights updation [24.7016 24.8516 24.7516 24.9016]\n",
      "output 96.03200000000001\n",
      "iteration 3\n",
      "Weights updation [24.86032 25.01032 24.91032 25.06032]\n",
      "output 99.2064\n",
      "iteration 4\n",
      "Weights updation [24.892064 25.042064 24.942064 25.092064]\n",
      "output 99.84128\n",
      "iteration 5\n",
      "Weights updation [24.8984128 25.0484128 24.9484128 25.0984128]\n",
      "output 99.968256\n",
      "iteration 6\n",
      "Weights updation [24.89968256 25.04968256 24.94968256 25.09968256]\n",
      "output 99.9936512\n",
      "iteration 7\n",
      "Weights updation [24.89993651 25.04993651 24.94993651 25.09993651]\n",
      "output 99.99873024\n",
      "iteration 8\n",
      "Weights updation [24.8999873 25.0499873 24.9499873 25.0999873]\n",
      "output 99.99974604799999\n",
      "iteration 9\n",
      "Weights updation [24.89999746 25.04999746 24.94999746 25.09999746]\n",
      "output 99.99994920960002\n"
     ]
    }
   ],
   "source": [
    "for i in range(10):\n",
    "    output = f([1.0,1.0,1.0,1.0],100.0)\n",
    "    print(\"iteration\",i)\n",
    "    print(\"Weights updation\",W.get_value())\n",
    "    print(\"output\",output)"
   ]
  },
  {
   "cell_type": "code",
   "execution_count": null,
   "metadata": {},
   "outputs": [],
   "source": []
  }
 ],
 "metadata": {
  "kernelspec": {
   "display_name": "Python 3",
   "language": "python",
   "name": "python3"
  },
  "language_info": {
   "codemirror_mode": {
    "name": "ipython",
    "version": 3
   },
   "file_extension": ".py",
   "mimetype": "text/x-python",
   "name": "python",
   "nbconvert_exporter": "python",
   "pygments_lexer": "ipython3",
   "version": "3.7.6"
  }
 },
 "nbformat": 4,
 "nbformat_minor": 4
}
