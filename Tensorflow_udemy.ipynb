{
 "cells": [
  {
   "cell_type": "code",
   "execution_count": 18,
   "metadata": {},
   "outputs": [],
   "source": [
    "import numpy as np\n",
    "import tensorflow as tf"
   ]
  },
  {
   "cell_type": "code",
   "execution_count": 19,
   "metadata": {},
   "outputs": [],
   "source": [
    "A = tf.placeholder(tf.float32,shape = (5,5),name = 'A') #inputs\n",
    "V = tf.placeholder(tf.float32) # output"
   ]
  },
  {
   "cell_type": "code",
   "execution_count": 20,
   "metadata": {},
   "outputs": [],
   "source": [
    "w = tf.matmul(A,V)"
   ]
  },
  {
   "cell_type": "code",
   "execution_count": 21,
   "metadata": {},
   "outputs": [
    {
     "name": "stdout",
     "output_type": "stream",
     "text": [
      "[[-0.94447064]\n",
      " [10.605021  ]\n",
      " [ 2.861301  ]\n",
      " [ 0.03230619]\n",
      " [ 0.4038747 ]] <class 'numpy.ndarray'>\n"
     ]
    }
   ],
   "source": [
    "with tf.Session() as sess:\n",
    "    output = sess.run(w,feed_dict = {A:np.random.randn(5,5),V:np.random.randn(5,1)})\n",
    "    print(output,type(output))"
   ]
  },
  {
   "cell_type": "markdown",
   "metadata": {},
   "source": [
    "## 2nd example"
   ]
  },
  {
   "cell_type": "code",
   "execution_count": 22,
   "metadata": {},
   "outputs": [],
   "source": [
    "shape = (2,2) \n",
    "x = tf.Variable(tf.random_normal(shape)) #inputs\n",
    "#x = tf.Variable(tf.random.randn(2,2))\n",
    "t = tf.Variable(0) # scalar outputs"
   ]
  },
  {
   "cell_type": "code",
   "execution_count": 23,
   "metadata": {},
   "outputs": [],
   "source": [
    "#initializing variables\n",
    "init = tf.global_variables_initializer()"
   ]
  },
  {
   "cell_type": "code",
   "execution_count": 24,
   "metadata": {},
   "outputs": [
    {
     "name": "stdout",
     "output_type": "stream",
     "text": [
      "None\n",
      "[[0.11758839 2.032402  ]\n",
      " [0.6334606  1.0684744 ]]\n",
      "0\n"
     ]
    }
   ],
   "source": [
    "with tf.Session() as ses:\n",
    "    out = ses.run(init)\n",
    "    print(out) #nothing\n",
    "    print(x.eval()) #prints values\n",
    "    print(t.eval()) #prints values"
   ]
  },
  {
   "cell_type": "markdown",
   "metadata": {},
   "source": [
    "# 3rd example"
   ]
  },
  {
   "cell_type": "code",
   "execution_count": 25,
   "metadata": {},
   "outputs": [],
   "source": [
    "u = tf.Variable(20.0)\n",
    "cost = u*u+u+1.0"
   ]
  },
  {
   "cell_type": "code",
   "execution_count": 26,
   "metadata": {},
   "outputs": [],
   "source": [
    "# Gradient optimizer\n",
    "train_op = tf.train.GradientDescentOptimizer(0.3).minimize(cost) # lr = 0.3"
   ]
  },
  {
   "cell_type": "code",
   "execution_count": 27,
   "metadata": {},
   "outputs": [],
   "source": [
    "#initializing variables\n",
    "init1 = tf.global_variables_initializer()"
   ]
  },
  {
   "cell_type": "code",
   "execution_count": 31,
   "metadata": {},
   "outputs": [
    {
     "name": "stdout",
     "output_type": "stream",
     "text": [
      "iteration 0 cost 67.99 u 7.7\n",
      "iteration 1 cost 11.508398 u 2.7799997\n",
      "iteration 2 cost 2.4713435 u 0.8119998\n",
      "iteration 3 cost 1.0254148 u 0.024799883\n",
      "iteration 4 cost 0.7940664 u -0.29008\n",
      "iteration 5 cost 0.75705063 u -0.41603202\n",
      "iteration 6 cost 0.75112814 u -0.4664128\n",
      "iteration 7 cost 0.75018054 u -0.48656514\n",
      "iteration 8 cost 0.7500289 u -0.49462608\n",
      "iteration 9 cost 0.75000465 u -0.49785045\n",
      "iteration 10 cost 0.7500007 u -0.4991402\n",
      "iteration 11 cost 0.7500001 u -0.49965608\n"
     ]
    }
   ],
   "source": [
    "with tf.Session() as ses1:\n",
    "    ses1.run(init1)\n",
    "    \n",
    "    for i in range(12):\n",
    "        ses1.run(train_op)\n",
    "        print(\"iteration\",i,\"cost\",cost.eval(),\"u\",u.eval())"
   ]
  },
  {
   "cell_type": "code",
   "execution_count": null,
   "metadata": {},
   "outputs": [],
   "source": []
  },
  {
   "cell_type": "code",
   "execution_count": null,
   "metadata": {},
   "outputs": [],
   "source": []
  },
  {
   "cell_type": "code",
   "execution_count": null,
   "metadata": {},
   "outputs": [],
   "source": []
  },
  {
   "cell_type": "code",
   "execution_count": null,
   "metadata": {},
   "outputs": [],
   "source": []
  },
  {
   "cell_type": "code",
   "execution_count": null,
   "metadata": {},
   "outputs": [],
   "source": []
  }
 ],
 "metadata": {
  "kernelspec": {
   "display_name": "Python 3",
   "language": "python",
   "name": "python3"
  },
  "language_info": {
   "codemirror_mode": {
    "name": "ipython",
    "version": 3
   },
   "file_extension": ".py",
   "mimetype": "text/x-python",
   "name": "python",
   "nbconvert_exporter": "python",
   "pygments_lexer": "ipython3",
   "version": "3.7.6"
  }
 },
 "nbformat": 4,
 "nbformat_minor": 4
}
