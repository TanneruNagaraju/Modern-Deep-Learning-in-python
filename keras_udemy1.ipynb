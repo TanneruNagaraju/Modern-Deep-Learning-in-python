{
 "cells": [
  {
   "cell_type": "code",
   "execution_count": 3,
   "metadata": {},
   "outputs": [],
   "source": [
    "import numpy as np\n",
    "import pandas as pd\n",
    "import matplotlib.pyplot as plt"
   ]
  },
  {
   "cell_type": "code",
   "execution_count": 4,
   "metadata": {},
   "outputs": [],
   "source": [
    "from keras.models import Sequential\n",
    "from keras.layers import Dense\n",
    "from keras.layers import Activation"
   ]
  },
  {
   "cell_type": "code",
   "execution_count": 28,
   "metadata": {},
   "outputs": [],
   "source": [
    "def get_normalized_data():\n",
    "    print(\"Reading in and transforming data...\")\n",
    "    \n",
    "    \n",
    "    df = pd.read_csv('C:/Users/TANNERU/Downloads/train.csv/train.csv')\n",
    "    #print(df)\n",
    "    data = df.values.astype(np.float32)\n",
    "    #print(data)\n",
    "    \n",
    "    np.random.shuffle(data)\n",
    "    \n",
    "    \n",
    "    X = data[:,1:] #except 1 columns\n",
    "    Y = data[:,0].astype(np.int32) #only 1st column\n",
    "    print(\"Innputs\",X)\n",
    "    print(\"output\",Y)\n",
    "    print(X.shape) #(42000, 784)\n",
    "    print(Y.shape) #(42000,)\n",
    "    \n",
    "    \n",
    "    Xtrain = X[:-1000]\n",
    "    Xtest = X[-1000:]\n",
    "    Ytrain = Y[:-1000]\n",
    "    Ytest = Y[-1000:]\n",
    "    print(\"Xtrain\",Xtrain.shape)#(41000, 784)\n",
    "    print(\"Xtest\",Xtest.shape)#(1000, 784)\n",
    "    print(\"Ytrain\",Ytrain.shape)#(41000,)\n",
    "    print(\"Ytest\",Ytest.shape) #(1000,)\n",
    "    \n",
    "    \n",
    "    mu = Xtrain.mean(axis = 0) #(784,)\n",
    "    std = Xtrain.std(axis = 0) \n",
    "    np.place(std,std == 0,1) # changes all values to 0,1\n",
    "    print(np.place(std,std == 0,1))\n",
    "    #print(mu)\n",
    "    print(mu.shape)#(784,)\n",
    "    \n",
    "    \n",
    "    #center the data\n",
    "    Xtrain = (Xtrain - mu)/std\n",
    "    Xtest = (Xtest - mu)/std\n",
    "    print(Xtrain)\n",
    "    print(Xtest)\n",
    "    \n",
    "    \n",
    "    return Xtrain,Xtest,Ytrain,Ytest"
   ]
  },
  {
   "cell_type": "code",
   "execution_count": 29,
   "metadata": {},
   "outputs": [
    {
     "name": "stdout",
     "output_type": "stream",
     "text": [
      "Reading in and transforming data...\n",
      "Innputs [[0. 0. 0. ... 0. 0. 0.]\n",
      " [0. 0. 0. ... 0. 0. 0.]\n",
      " [0. 0. 0. ... 0. 0. 0.]\n",
      " ...\n",
      " [0. 0. 0. ... 0. 0. 0.]\n",
      " [0. 0. 0. ... 0. 0. 0.]\n",
      " [0. 0. 0. ... 0. 0. 0.]]\n",
      "output [4 0 5 ... 0 4 5]\n",
      "(42000, 784)\n",
      "(42000,)\n",
      "Xtrain (41000, 784)\n",
      "Xtest (1000, 784)\n",
      "Ytrain (41000,)\n",
      "Ytest (1000,)\n",
      "None\n",
      "(784,)\n",
      "[[0. 0. 0. ... 0. 0. 0.]\n",
      " [0. 0. 0. ... 0. 0. 0.]\n",
      " [0. 0. 0. ... 0. 0. 0.]\n",
      " ...\n",
      " [0. 0. 0. ... 0. 0. 0.]\n",
      " [0. 0. 0. ... 0. 0. 0.]\n",
      " [0. 0. 0. ... 0. 0. 0.]]\n",
      "[[0. 0. 0. ... 0. 0. 0.]\n",
      " [0. 0. 0. ... 0. 0. 0.]\n",
      " [0. 0. 0. ... 0. 0. 0.]\n",
      " ...\n",
      " [0. 0. 0. ... 0. 0. 0.]\n",
      " [0. 0. 0. ... 0. 0. 0.]\n",
      " [0. 0. 0. ... 0. 0. 0.]]\n"
     ]
    }
   ],
   "source": [
    "Xtrain,Xtest,Ytrain,Ytest = get_normalized_data()"
   ]
  },
  {
   "cell_type": "code",
   "execution_count": 30,
   "metadata": {},
   "outputs": [
    {
     "name": "stdout",
     "output_type": "stream",
     "text": [
      "Xtrain (41000, 784)\n",
      "Xtest (1000, 784)\n",
      "Ytrain (41000,)\n",
      "Ytest (1000,)\n"
     ]
    }
   ],
   "source": [
    "print(\"Xtrain\",Xtrain.shape)#(41000, 784)\n",
    "print(\"Xtest\",Xtest.shape)#(1000, 784)\n",
    "print(\"Ytrain\",Ytrain.shape)#(41000,)\n",
    "print(\"Ytest\",Ytest.shape) #(1000,)"
   ]
  },
  {
   "cell_type": "code",
   "execution_count": 31,
   "metadata": {},
   "outputs": [
    {
     "name": "stdout",
     "output_type": "stream",
     "text": [
      "41000\n",
      "784\n"
     ]
    }
   ],
   "source": [
    "N,D = Xtrain.shape\n",
    "print(N) #41000\n",
    "print(D)#784"
   ]
  },
  {
   "cell_type": "code",
   "execution_count": 32,
   "metadata": {},
   "outputs": [
    {
     "name": "stdout",
     "output_type": "stream",
     "text": [
      "10\n"
     ]
    }
   ],
   "source": [
    "K = len(set(Ytrain))\n",
    "print(K) #4"
   ]
  },
  {
   "cell_type": "code",
   "execution_count": 33,
   "metadata": {},
   "outputs": [
    {
     "name": "stdout",
     "output_type": "stream",
     "text": [
      "[0 1 2 3 4 5 6 7 8 9]\n"
     ]
    }
   ],
   "source": [
    "print(np.unique(Ytrain))"
   ]
  },
  {
   "cell_type": "code",
   "execution_count": 34,
   "metadata": {},
   "outputs": [
    {
     "name": "stdout",
     "output_type": "stream",
     "text": [
      "[4 0 5 ... 7 9 8]\n"
     ]
    }
   ],
   "source": [
    "print(Ytrain)"
   ]
  },
  {
   "cell_type": "code",
   "execution_count": 35,
   "metadata": {},
   "outputs": [],
   "source": [
    "Ytrain = Ytrain.reshape(-1,1)\n",
    "Ytest = Ytest.reshape(-1,1)"
   ]
  },
  {
   "cell_type": "code",
   "execution_count": 36,
   "metadata": {},
   "outputs": [],
   "source": [
    "from sklearn.preprocessing import OneHotEncoder\n",
    "onehot = OneHotEncoder(categories = 'auto')\n",
    "Ytrain = onehot.fit_transform(Ytrain).toarray()\n",
    "Ytest = onehot.fit_transform(Ytest).toarray()"
   ]
  },
  {
   "cell_type": "code",
   "execution_count": 37,
   "metadata": {},
   "outputs": [
    {
     "name": "stdout",
     "output_type": "stream",
     "text": [
      "[[0. 0. 0. ... 0. 0. 0.]\n",
      " [1. 0. 0. ... 0. 0. 0.]\n",
      " [0. 0. 0. ... 0. 0. 0.]\n",
      " ...\n",
      " [0. 0. 0. ... 1. 0. 0.]\n",
      " [0. 0. 0. ... 0. 0. 1.]\n",
      " [0. 0. 0. ... 0. 1. 0.]]\n",
      "(41000, 10)\n"
     ]
    }
   ],
   "source": [
    "print(Ytrain)\n",
    "print(Ytrain.shape)"
   ]
  },
  {
   "cell_type": "code",
   "execution_count": 38,
   "metadata": {},
   "outputs": [
    {
     "name": "stdout",
     "output_type": "stream",
     "text": [
      "[[0. 0. 0. ... 1. 0. 0.]\n",
      " [0. 0. 0. ... 0. 0. 1.]\n",
      " [0. 0. 0. ... 0. 0. 0.]\n",
      " ...\n",
      " [1. 0. 0. ... 0. 0. 0.]\n",
      " [0. 0. 0. ... 0. 0. 0.]\n",
      " [0. 0. 0. ... 0. 0. 0.]]\n",
      "(1000, 10)\n"
     ]
    }
   ],
   "source": [
    "print(Ytest)\n",
    "print(Ytest.shape)"
   ]
  },
  {
   "cell_type": "code",
   "execution_count": 40,
   "metadata": {},
   "outputs": [],
   "source": [
    "#model will be sequential \n",
    "model = Sequential()\n",
    "#ANN with layer [784]-->[500]-->[300]-->[10]\n",
    "#Hidden layer1\n",
    "model.add(Dense(units = 500,input_dim = D))# 500 neurons with 784 dimensions #Linear transformation(X.dot(W)+b)\n",
    "model.add(Activation('relu')) # applying activation to the linear transformation\n",
    "#Hidden Layer2\n",
    "model.add(Dense(units = 300)) #dimensions automatically it will take &  don't need to specify input_dim\n",
    "model.add(Activation('relu'))\n",
    "#Output layer\n",
    "model.add(Dense(units = K))\n",
    "model.add(Activation('softmax'))\n",
    "\n",
    "\n",
    "#compliling\n",
    "model.compile(loss = 'categorical_crossentropy',optimizer = 'adam',metrics = ['accuracy'])\n",
    "\n"
   ]
  },
  {
   "cell_type": "code",
   "execution_count": 41,
   "metadata": {},
   "outputs": [
    {
     "name": "stdout",
     "output_type": "stream",
     "text": [
      "WARNING:tensorflow:From C:\\Users\\TANNERU\\anaconda3\\lib\\site-packages\\tensorflow\\python\\ops\\math_grad.py:1250: add_dispatch_support.<locals>.wrapper (from tensorflow.python.ops.array_ops) is deprecated and will be removed in a future version.\n",
      "Instructions for updating:\n",
      "Use tf.where in 2.0, which has the same broadcast rule as np.where\n",
      "WARNING:tensorflow:From C:\\Users\\TANNERU\\anaconda3\\lib\\site-packages\\keras\\backend\\tensorflow_backend.py:1033: The name tf.assign_add is deprecated. Please use tf.compat.v1.assign_add instead.\n",
      "\n",
      "Train on 41000 samples, validate on 1000 samples\n",
      "Epoch 1/15\n",
      "41000/41000 [==============================] - 14s 333us/step - loss: 0.2448 - acc: 0.9306 - val_loss: 0.1418 - val_acc: 0.9560\n",
      "Epoch 2/15\n",
      "41000/41000 [==============================] - 13s 317us/step - loss: 0.1170 - acc: 0.9673 - val_loss: 0.1383 - val_acc: 0.9580\n",
      "Epoch 3/15\n",
      "41000/41000 [==============================] - 13s 323us/step - loss: 0.0818 - acc: 0.9754 - val_loss: 0.1225 - val_acc: 0.9640\n",
      "Epoch 4/15\n",
      "41000/41000 [==============================] - 14s 336us/step - loss: 0.0668 - acc: 0.9813 - val_loss: 0.1319 - val_acc: 0.9670\n",
      "Epoch 5/15\n",
      "41000/41000 [==============================] - 14s 342us/step - loss: 0.0559 - acc: 0.9838 - val_loss: 0.1010 - val_acc: 0.9770\n",
      "Epoch 6/15\n",
      "41000/41000 [==============================] - 13s 327us/step - loss: 0.0691 - acc: 0.9822 - val_loss: 0.1543 - val_acc: 0.9710\n",
      "Epoch 7/15\n",
      "41000/41000 [==============================] - 17s 406us/step - loss: 0.0548 - acc: 0.9869 - val_loss: 0.2083 - val_acc: 0.9630\n",
      "Epoch 8/15\n",
      "41000/41000 [==============================] - 25s 619us/step - loss: 0.0469 - acc: 0.9881 - val_loss: 0.2135 - val_acc: 0.9680\n",
      "Epoch 9/15\n",
      "41000/41000 [==============================] - 24s 580us/step - loss: 0.0346 - acc: 0.9912 - val_loss: 0.2103 - val_acc: 0.9680\n",
      "Epoch 10/15\n",
      "41000/41000 [==============================] - 24s 594us/step - loss: 0.0596 - acc: 0.9871 - val_loss: 0.2602 - val_acc: 0.9690\n",
      "Epoch 11/15\n",
      "41000/41000 [==============================] - 23s 557us/step - loss: 0.0442 - acc: 0.9907 - val_loss: 0.1812 - val_acc: 0.9730\n",
      "Epoch 12/15\n",
      "41000/41000 [==============================] - 22s 547us/step - loss: 0.0593 - acc: 0.9889 - val_loss: 0.2034 - val_acc: 0.9760\n",
      "Epoch 13/15\n",
      "41000/41000 [==============================] - 22s 544us/step - loss: 0.0538 - acc: 0.9904 - val_loss: 0.2188 - val_acc: 0.9750\n",
      "Epoch 14/15\n",
      "41000/41000 [==============================] - 23s 556us/step - loss: 0.0646 - acc: 0.9894 - val_loss: 0.1452 - val_acc: 0.9820\n",
      "Epoch 15/15\n",
      "41000/41000 [==============================] - 25s 614us/step - loss: 0.0537 - acc: 0.9912 - val_loss: 0.2321 - val_acc: 0.9750\n",
      "fitting <keras.callbacks.History object at 0x000001C082849FC8>\n"
     ]
    }
   ],
   "source": [
    "#fitting the model\n",
    "r = model.fit(Xtrain,Ytrain,validation_data = (Xtest,Ytest),epochs = 15,batch_size = 32)\n",
    "print(\"fitting\",r)\n"
   ]
  },
  {
   "cell_type": "code",
   "execution_count": 42,
   "metadata": {},
   "outputs": [
    {
     "name": "stdout",
     "output_type": "stream",
     "text": [
      "dict_keys(['val_loss', 'val_acc', 'loss', 'acc'])\n"
     ]
    }
   ],
   "source": [
    "#keys \n",
    "print(r.history.keys())"
   ]
  },
  {
   "cell_type": "code",
   "execution_count": 45,
   "metadata": {},
   "outputs": [
    {
     "data": {
      "image/png": "[encoded data removed]",
      "text/plain": [
       "<Figure size 432x288 with 1 Axes>"
      ]
     },
     "metadata": {
      "needs_background": "light"
     },
     "output_type": "display_data"
    }
   ],
   "source": [
    "#visulaiztion for Costs\n",
    "plt.plot(r.history['loss'],label = 'Train')\n",
    "plt.plot(r.history['val_loss'],label = 'validation')\n",
    "plt.legend()\n",
    "plt.show()"
   ]
  },
  {
   "cell_type": "code",
   "execution_count": 46,
   "metadata": {},
   "outputs": [
    {
     "data": {
      "image/png": "[encoded data removed]",
      "text/plain": [
       "<Figure size 432x288 with 1 Axes>"
      ]
     },
     "metadata": {
      "needs_background": "light"
     },
     "output_type": "display_data"
    }
   ],
   "source": [
    "#visulaiztion for Accuracy\n",
    "plt.plot(r.history['acc'],label = 'Train')\n",
    "plt.plot(r.history['val_acc'],label = 'Validation')\n",
    "plt.legend()\n",
    "plt.show()"
   ]
  },
  {
   "cell_type": "code",
   "execution_count": null,
   "metadata": {},
   "outputs": [],
   "source": []
  }
 ],
 "metadata": {
  "kernelspec": {
   "display_name": "Python 3",
   "language": "python",
   "name": "python3"
  },
  "language_info": {
   "codemirror_mode": {
    "name": "ipython",
    "version": 3
   },
   "file_extension": ".py",
   "mimetype": "text/x-python",
   "name": "python",
   "nbconvert_exporter": "python",
   "pygments_lexer": "ipython3",
   "version": "3.7.6"
  }
 },
 "nbformat": 4,
 "nbformat_minor": 4
}
