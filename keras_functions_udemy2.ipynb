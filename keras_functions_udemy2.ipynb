{
 "cells": [
  {
   "cell_type": "code",
   "execution_count": 1,
   "metadata": {},
   "outputs": [],
   "source": [
    "import numpy as np\n",
    "import pandas as pd\n",
    "import matplotlib.pyplot as plt"
   ]
  },
  {
   "cell_type": "code",
   "execution_count": 3,
   "metadata": {},
   "outputs": [],
   "source": [
    "from keras.models import Model\n",
    "from keras.layers import Dense\n",
    "from keras.layers import Input"
   ]
  },
  {
   "cell_type": "code",
   "execution_count": 4,
   "metadata": {},
   "outputs": [],
   "source": [
    "def get_normalized_data():\n",
    "    print(\"Reading in and transforming data...\")\n",
    "    \n",
    "    \n",
    "    df = pd.read_csv('C:/Users/TANNERU/Downloads/train.csv/train.csv')\n",
    "    #print(df)\n",
    "    data = df.values.astype(np.float32)\n",
    "    #print(data)\n",
    "    \n",
    "    np.random.shuffle(data)\n",
    "    \n",
    "    \n",
    "    X = data[:,1:] #except 1 columns\n",
    "    Y = data[:,0].astype(np.int32) #only 1st column\n",
    "    print(\"Innputs\",X)\n",
    "    print(\"output\",Y)\n",
    "    print(X.shape) #(42000, 784)\n",
    "    print(Y.shape) #(42000,)\n",
    "    \n",
    "    \n",
    "    Xtrain = X[:-1000]\n",
    "    Xtest = X[-1000:]\n",
    "    Ytrain = Y[:-1000]\n",
    "    Ytest = Y[-1000:]\n",
    "    print(\"Xtrain\",Xtrain.shape)#(41000, 784)\n",
    "    print(\"Xtest\",Xtest.shape)#(1000, 784)\n",
    "    print(\"Ytrain\",Ytrain.shape)#(41000,)\n",
    "    print(\"Ytest\",Ytest.shape) #(1000,)\n",
    "    \n",
    "    \n",
    "    mu = Xtrain.mean(axis = 0) #(784,)\n",
    "    std = Xtrain.std(axis = 0) \n",
    "    np.place(std,std == 0,1) # changes all values to 0,1\n",
    "    print(np.place(std,std == 0,1))\n",
    "    #print(mu)\n",
    "    print(mu.shape)#(784,)\n",
    "    \n",
    "    \n",
    "    #center the data\n",
    "    Xtrain = (Xtrain - mu)/std\n",
    "    Xtest = (Xtest - mu)/std\n",
    "    print(Xtrain)\n",
    "    print(Xtest)\n",
    "    \n",
    "    \n",
    "    return Xtrain,Xtest,Ytrain,Ytest"
   ]
  },
  {
   "cell_type": "code",
   "execution_count": 5,
   "metadata": {},
   "outputs": [
    {
     "name": "stdout",
     "output_type": "stream",
     "text": [
      "Reading in and transforming data...\n",
      "Innputs [[0. 0. 0. ... 0. 0. 0.]\n",
      " [0. 0. 0. ... 0. 0. 0.]\n",
      " [0. 0. 0. ... 0. 0. 0.]\n",
      " ...\n",
      " [0. 0. 0. ... 0. 0. 0.]\n",
      " [0. 0. 0. ... 0. 0. 0.]\n",
      " [0. 0. 0. ... 0. 0. 0.]]\n",
      "output [2 8 1 ... 8 4 2]\n",
      "(42000, 784)\n",
      "(42000,)\n",
      "Xtrain (41000, 784)\n",
      "Xtest (1000, 784)\n",
      "Ytrain (41000,)\n",
      "Ytest (1000,)\n",
      "None\n",
      "(784,)\n",
      "[[0. 0. 0. ... 0. 0. 0.]\n",
      " [0. 0. 0. ... 0. 0. 0.]\n",
      " [0. 0. 0. ... 0. 0. 0.]\n",
      " ...\n",
      " [0. 0. 0. ... 0. 0. 0.]\n",
      " [0. 0. 0. ... 0. 0. 0.]\n",
      " [0. 0. 0. ... 0. 0. 0.]]\n",
      "[[0. 0. 0. ... 0. 0. 0.]\n",
      " [0. 0. 0. ... 0. 0. 0.]\n",
      " [0. 0. 0. ... 0. 0. 0.]\n",
      " ...\n",
      " [0. 0. 0. ... 0. 0. 0.]\n",
      " [0. 0. 0. ... 0. 0. 0.]\n",
      " [0. 0. 0. ... 0. 0. 0.]]\n"
     ]
    }
   ],
   "source": [
    "Xtrain,Xtest,Ytrain,Ytest = get_normalized_data()"
   ]
  },
  {
   "cell_type": "code",
   "execution_count": 6,
   "metadata": {},
   "outputs": [
    {
     "name": "stdout",
     "output_type": "stream",
     "text": [
      "Xtrain (41000, 784)\n",
      "Xtest (1000, 784)\n",
      "Ytrain (41000,)\n",
      "Ytest (1000,)\n"
     ]
    }
   ],
   "source": [
    "print(\"Xtrain\",Xtrain.shape)#(41000, 784)\n",
    "print(\"Xtest\",Xtest.shape)#(1000, 784)\n",
    "print(\"Ytrain\",Ytrain.shape)#(41000,)\n",
    "print(\"Ytest\",Ytest.shape) #(1000,)"
   ]
  },
  {
   "cell_type": "code",
   "execution_count": 7,
   "metadata": {},
   "outputs": [
    {
     "name": "stdout",
     "output_type": "stream",
     "text": [
      "41000\n",
      "784\n"
     ]
    }
   ],
   "source": [
    "N,D = Xtrain.shape\n",
    "print(N) #41000\n",
    "print(D)#784"
   ]
  },
  {
   "cell_type": "code",
   "execution_count": 8,
   "metadata": {},
   "outputs": [
    {
     "name": "stdout",
     "output_type": "stream",
     "text": [
      "10\n"
     ]
    }
   ],
   "source": [
    "K = len(set(Ytrain))\n",
    "print(K) #4"
   ]
  },
  {
   "cell_type": "code",
   "execution_count": 9,
   "metadata": {},
   "outputs": [
    {
     "name": "stdout",
     "output_type": "stream",
     "text": [
      "[0 1 2 3 4 5 6 7 8 9]\n"
     ]
    }
   ],
   "source": [
    "print(np.unique(Ytrain))"
   ]
  },
  {
   "cell_type": "code",
   "execution_count": 10,
   "metadata": {},
   "outputs": [
    {
     "name": "stdout",
     "output_type": "stream",
     "text": [
      "[2 8 1 ... 7 0 1]\n"
     ]
    }
   ],
   "source": [
    "print(Ytrain)"
   ]
  },
  {
   "cell_type": "code",
   "execution_count": 11,
   "metadata": {},
   "outputs": [],
   "source": [
    "Ytrain = Ytrain.reshape(-1,1)\n",
    "Ytest = Ytest.reshape(-1,1)"
   ]
  },
  {
   "cell_type": "code",
   "execution_count": 12,
   "metadata": {},
   "outputs": [],
   "source": [
    "from sklearn.preprocessing import OneHotEncoder\n",
    "onehot = OneHotEncoder()\n",
    "Ytrain = onehot.fit_transform(Ytrain).toarray()\n",
    "Ytest = onehot.fit_transform(Ytest).toarray()"
   ]
  },
  {
   "cell_type": "code",
   "execution_count": 13,
   "metadata": {},
   "outputs": [
    {
     "name": "stdout",
     "output_type": "stream",
     "text": [
      "[[0. 0. 1. ... 0. 0. 0.]\n",
      " [0. 0. 0. ... 0. 1. 0.]\n",
      " [0. 1. 0. ... 0. 0. 0.]\n",
      " ...\n",
      " [0. 0. 0. ... 1. 0. 0.]\n",
      " [1. 0. 0. ... 0. 0. 0.]\n",
      " [0. 1. 0. ... 0. 0. 0.]]\n",
      "(41000, 10)\n"
     ]
    }
   ],
   "source": [
    "print(Ytrain)\n",
    "print(Ytrain.shape)"
   ]
  },
  {
   "cell_type": "code",
   "execution_count": 14,
   "metadata": {},
   "outputs": [
    {
     "name": "stdout",
     "output_type": "stream",
     "text": [
      "[[0. 0. 0. ... 0. 1. 0.]\n",
      " [0. 0. 0. ... 0. 1. 0.]\n",
      " [0. 0. 0. ... 1. 0. 0.]\n",
      " ...\n",
      " [0. 0. 0. ... 0. 1. 0.]\n",
      " [0. 0. 0. ... 0. 0. 0.]\n",
      " [0. 0. 1. ... 0. 0. 0.]]\n",
      "(1000, 10)\n"
     ]
    }
   ],
   "source": [
    "print(Ytest)\n",
    "print(Ytest.shape)"
   ]
  },
  {
   "cell_type": "code",
   "execution_count": 17,
   "metadata": {},
   "outputs": [],
   "source": [
    "# ANN with layers [784] -> [500] -> [300] -> [10]\n",
    "i = Input(shape = (D,))\n",
    "x = Dense(500,activation = 'relu')(i)#Hidden layer1\n",
    "x = Dense(300,activation = 'relu')(x)#Hidden layer2\n",
    "x = Dense(K,activation = 'softmax')(x)#output layer\n"
   ]
  },
  {
   "cell_type": "code",
   "execution_count": 18,
   "metadata": {},
   "outputs": [],
   "source": [
    "#model \n",
    "model = Model(inputs = i,outputs = x)"
   ]
  },
  {
   "cell_type": "code",
   "execution_count": 20,
   "metadata": {},
   "outputs": [],
   "source": [
    "#compiling\n",
    "model.compile(loss = \"categorical_crossentropy\",optimizer = 'adam',metrics = ['accuracy'])"
   ]
  },
  {
   "cell_type": "code",
   "execution_count": 22,
   "metadata": {},
   "outputs": [
    {
     "name": "stdout",
     "output_type": "stream",
     "text": [
      "Train on 41000 samples, validate on 1000 samples\n",
      "Epoch 1/15\n",
      "41000/41000 [==============================] - 17s 411us/step - loss: 0.1116 - acc: 0.9688 - val_loss: 0.2058 - val_acc: 0.9530\n",
      "Epoch 2/15\n",
      "41000/41000 [==============================] - 17s 415us/step - loss: 0.0747 - acc: 0.9785 - val_loss: 0.1989 - val_acc: 0.9630\n",
      "Epoch 3/15\n",
      "41000/41000 [==============================] - 17s 415us/step - loss: 0.0681 - acc: 0.9809 - val_loss: 0.2573 - val_acc: 0.9530\n",
      "Epoch 4/15\n",
      "41000/41000 [==============================] - 17s 417us/step - loss: 0.0594 - acc: 0.9848 - val_loss: 0.2821 - val_acc: 0.9510\n",
      "Epoch 5/15\n",
      "41000/41000 [==============================] - 17s 415us/step - loss: 0.0636 - acc: 0.9843 - val_loss: 0.2599 - val_acc: 0.9540\n",
      "Epoch 6/15\n",
      "41000/41000 [==============================] - 17s 419us/step - loss: 0.0501 - acc: 0.9873 - val_loss: 0.2790 - val_acc: 0.9560\n",
      "Epoch 7/15\n",
      "41000/41000 [==============================] - 17s 413us/step - loss: 0.0590 - acc: 0.9868 - val_loss: 0.2854 - val_acc: 0.9600\n",
      "Epoch 8/15\n",
      "41000/41000 [==============================] - 17s 411us/step - loss: 0.0458 - acc: 0.9903 - val_loss: 0.2476 - val_acc: 0.9620\n",
      "Epoch 9/15\n",
      "41000/41000 [==============================] - 17s 411us/step - loss: 0.0553 - acc: 0.9887 - val_loss: 0.3257 - val_acc: 0.9610\n",
      "Epoch 10/15\n",
      "41000/41000 [==============================] - 17s 407us/step - loss: 0.0392 - acc: 0.9920 - val_loss: 0.2715 - val_acc: 0.9690\n",
      "Epoch 11/15\n",
      "41000/41000 [==============================] - 17s 412us/step - loss: 0.0432 - acc: 0.9911 - val_loss: 0.2818 - val_acc: 0.9660\n",
      "Epoch 12/15\n",
      "41000/41000 [==============================] - 17s 412us/step - loss: 0.0578 - acc: 0.9898 - val_loss: 0.3142 - val_acc: 0.9630\n",
      "Epoch 13/15\n",
      "41000/41000 [==============================] - 17s 416us/step - loss: 0.0454 - acc: 0.9917 - val_loss: 0.2765 - val_acc: 0.9710\n",
      "Epoch 14/15\n",
      "41000/41000 [==============================] - 17s 412us/step - loss: 0.0518 - acc: 0.9920 - val_loss: 0.3110 - val_acc: 0.9680\n",
      "Epoch 15/15\n",
      "41000/41000 [==============================] - 17s 410us/step - loss: 0.0611 - acc: 0.9913 - val_loss: 0.5135 - val_acc: 0.9570\n",
      "Fitting,r\n"
     ]
    }
   ],
   "source": [
    "#fitting the model\n",
    "r = model.fit(Xtrain,Ytrain,validation_data = (Xtest,Ytest),epochs = 15,batch_size = 32)\n",
    "print(\"Fitting\",r)"
   ]
  },
  {
   "cell_type": "code",
   "execution_count": 23,
   "metadata": {},
   "outputs": [
    {
     "name": "stdout",
     "output_type": "stream",
     "text": [
      "dict_keys(['val_loss', 'val_acc', 'loss', 'acc'])\n"
     ]
    }
   ],
   "source": [
    "#keys for model\n",
    "print(r.history.keys())"
   ]
  },
  {
   "cell_type": "code",
   "execution_count": 24,
   "metadata": {},
   "outputs": [
    {
     "data": {
      "image/png": "[encoded data removed]",
      "text/plain": [
       "<Figure size 432x288 with 1 Axes>"
      ]
     },
     "metadata": {
      "needs_background": "light"
     },
     "output_type": "display_data"
    }
   ],
   "source": [
    "#visualization for loss\n",
    "plt.plot(r.history['loss'],label = 'Train')\n",
    "plt.plot(r.history['val_loss'],label = 'Validation')\n",
    "plt.legend()\n",
    "plt.show()"
   ]
  },
  {
   "cell_type": "code",
   "execution_count": 25,
   "metadata": {},
   "outputs": [
    {
     "data": {
      "image/png": "[encoded data removed]",
      "text/plain": [
       "<Figure size 432x288 with 1 Axes>"
      ]
     },
     "metadata": {
      "needs_background": "light"
     },
     "output_type": "display_data"
    }
   ],
   "source": [
    "plt.plot(r.history['acc'],label = 'Train')\n",
    "plt.plot(r.history['val_acc'],label = \"Validation\")\n",
    "plt.legend()\n",
    "plt.show()"
   ]
  },
  {
   "cell_type": "code",
   "execution_count": null,
   "metadata": {},
   "outputs": [],
   "source": []
  }
 ],
 "metadata": {
  "kernelspec": {
   "display_name": "Python 3",
   "language": "python",
   "name": "python3"
  },
  "language_info": {
   "codemirror_mode": {
    "name": "ipython",
    "version": 3
   },
   "file_extension": ".py",
   "mimetype": "text/x-python",
   "name": "python",
   "nbconvert_exporter": "python",
   "pygments_lexer": "ipython3",
   "version": "3.7.6"
  }
 },
 "nbformat": 4,
 "nbformat_minor": 4
}
