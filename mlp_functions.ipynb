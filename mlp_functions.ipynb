{
 "cells": [
  {
   "cell_type": "code",
   "execution_count": 1,
   "metadata": {},
   "outputs": [],
   "source": [
    "import numpy as np"
   ]
  },
  {
   "cell_type": "code",
   "execution_count": null,
   "metadata": {},
   "outputs": [],
   "source": [
    "def forward(X,W1,b1,W2,b2):\n",
    "    #sigmoid hidden layer\n",
    "    a = X.dot(W1)+b1\n",
    "    Z = 1/(1+np.exp(-a))\n",
    "    \n",
    "    #relu for hidden layer\n",
    "    Z = X.dot(W1)+b1\n",
    "    Z[Z<0] = 0\n",
    "    \n",
    "    #softmax for output layer\n",
    "    A = Z.dot(W2)+b2\n",
    "    expA = np.exp(A)\n",
    "    Y = expA/expA.sum(axis = 1 ,keepdims = True)\n",
    "    return Y ,Z\n",
    "\n",
    "\n",
    "\n",
    "def derivative_w2(Z,T,Y):\n",
    "    return Z.T.dot(Y-T)\n",
    "\n",
    "def derivative_b2(T,Y):\n",
    "    return (Y-T).sum(axis = 0)\n",
    "\n",
    "\n",
    "def derivative_w1(X,Z,T,Y,W2):\n",
    "    # sigmoid\n",
    "    dz = (Y-T).dot(W2.T)*(Z*(1-Z))\n",
    "    return X.T.dot(dz)\n",
    "\n",
    "    # relu\n",
    "    dz = (Y-T).dot(W2.T)*(Z>0)\n",
    "    return X.T.dot(dz)\n",
    "\n",
    "def derivative_b1(Z,T,Y,W2):\n",
    "    return ((Y-T).dot(W2.T)*(Z*(1-Z)))sum(axis = 0) # for sigmoid\n",
    "\n",
    "    return ((Y-T).dot(W2.T)*(Z>0)) # for relu\n",
    " \n",
    "    \n",
    "    "
   ]
  }
 ],
 "metadata": {
  "kernelspec": {
   "display_name": "Python 3",
   "language": "python",
   "name": "python3"
  },
  "language_info": {
   "codemirror_mode": {
    "name": "ipython",
    "version": 3
   },
   "file_extension": ".py",
   "mimetype": "text/x-python",
   "name": "python",
   "nbconvert_exporter": "python",
   "pygments_lexer": "ipython3",
   "version": "3.7.6"
  }
 },
 "nbformat": 4,
 "nbformat_minor": 4
}
