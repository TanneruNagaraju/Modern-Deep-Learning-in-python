{
 "cells": [
  {
   "cell_type": "code",
   "execution_count": 1,
   "metadata": {},
   "outputs": [],
   "source": [
    "import theano as t"
   ]
  },
  {
   "cell_type": "code",
   "execution_count": 2,
   "metadata": {},
   "outputs": [],
   "source": [
    "from theano import *"
   ]
  },
  {
   "cell_type": "code",
   "execution_count": 3,
   "metadata": {},
   "outputs": [
    {
     "name": "stdout",
     "output_type": "stream",
     "text": [
      "4.0\n"
     ]
    }
   ],
   "source": [
    "a = tensor.dscalar() #decimal scalar\n",
    "b = tensor.dscalar() #decimal scalar\n",
    "c = a + b\n",
    "f = t.function([a,b],c)\n",
    "d = f(1.5,2.5)\n",
    "print(d)\n"
   ]
  },
  {
   "cell_type": "code",
   "execution_count": 4,
   "metadata": {},
   "outputs": [
    {
     "name": "stdout",
     "output_type": "stream",
     "text": [
      "[[11.  0.]\n",
      " [35. 20.]]\n"
     ]
    }
   ],
   "source": [
    "a1 = tensor.dmatrix()\n",
    "b1 = tensor.dmatrix()\n",
    "c1 = tensor.dot(a1,b1)\n",
    "f1 = theano.function([a1,b1],c1)\n",
    "d1 = f1([[0,-1,2],[4,11,2]],[[3,-1],[1,2],[6,1]])\n",
    "print(d1)"
   ]
  },
  {
   "cell_type": "code",
   "execution_count": 5,
   "metadata": {},
   "outputs": [
    {
     "name": "stdout",
     "output_type": "stream",
     "text": [
      "10\n"
     ]
    }
   ],
   "source": [
    "x = t.tensor.scalar('x')# scalar \n",
    "x = 10\n",
    "print(x)"
   ]
  },
  {
   "cell_type": "code",
   "execution_count": 6,
   "metadata": {},
   "outputs": [
    {
     "name": "stdout",
     "output_type": "stream",
     "text": [
      "(2.0, 4.0, 7.0)\n",
      "2.0\n",
      "7.0\n"
     ]
    }
   ],
   "source": [
    "v = t.tensor.vector # vector 1-dimension\n",
    "v = (2.0,4.0,7.0)\n",
    "print(v)\n",
    "print(v[0]) #return index values\n",
    "print(v[2])"
   ]
  },
  {
   "cell_type": "code",
   "execution_count": 7,
   "metadata": {},
   "outputs": [
    {
     "name": "stdout",
     "output_type": "stream",
     "text": [
      "([2, 5], [8, 9], [0, 5])\n",
      "[2, 5]\n",
      "5\n"
     ]
    }
   ],
   "source": [
    "m = t.tensor.matrix # 2 dimensional array\n",
    "m = ([2,5],[8,9],[0,5])\n",
    "print(m)\n",
    "print(m[0])\n",
    "print(m[0][1])"
   ]
  },
  {
   "cell_type": "code",
   "execution_count": 8,
   "metadata": {},
   "outputs": [
    {
     "name": "stdout",
     "output_type": "stream",
     "text": [
      "([1, 2, 3, 4, 5], [6, 7, 8, 9, 0])\n",
      "[1, 2, 3, 4, 5]\n",
      "5\n"
     ]
    }
   ],
   "source": [
    "fi = t.tensor.tensor5 # 5 dimensional array\n",
    "fi = ([1,2,3,4,5],[6,7,8,9,0])\n",
    "print(fi)\n",
    "print(fi[0])\n",
    "print(fi[0][4])"
   ]
  },
  {
   "cell_type": "code",
   "execution_count": 9,
   "metadata": {},
   "outputs": [
    {
     "name": "stdout",
     "output_type": "stream",
     "text": [
      "([1, 2], [3, 4])\n",
      "([5, 6], [7, 8])\n",
      "([9, 10], [5, 7])\n"
     ]
    }
   ],
   "source": [
    "x,y,z = t.tensor.dmatrices('x','y','z') #assigning multiple matrix variable at a time\n",
    "x = ([1,2],[3,4])\n",
    "y = ([5,6],[7,8])\n",
    "z = ([9,10],[5,7])\n",
    "print(x)\n",
    "print(y)\n",
    "print(z)"
   ]
  },
  {
   "cell_type": "code",
   "execution_count": 10,
   "metadata": {},
   "outputs": [
    {
     "name": "stdout",
     "output_type": "stream",
     "text": [
      "([1, 2, 3], [0, 9, 7], [2, 5, 7])\n"
     ]
    }
   ],
   "source": [
    "f3 = t.tensor.tensor3 # 3 dimensional array\n",
    "f4 = t.tensor.tensor4 # 4 dimensional array\n",
    "f6 = t.tensor.tensor6 # 6 dimensional array\n",
    "f7 = t.tensor.tensor7 # 7 dimensional array\n",
    "f3 = ([1,2,3],[0,9,7],[2,5,7])\n",
    "f4 = ([1,2,3,4],[4,5,6,7],[6,7,8,9])\n",
    "f6 = ([1,2,3,4,5,6],[0,3,6,1,7,1])\n",
    "f7 = ([1,2,3,4,5,6,7],[1,3,5,7,9,2,5])\n",
    "print(f3)"
   ]
  },
  {
   "cell_type": "code",
   "execution_count": 11,
   "metadata": {},
   "outputs": [
    {
     "data": {
      "text/plain": [
       "([1, 2, 3, 4], [4, 5, 6, 7], [6, 7, 8, 9])"
      ]
     },
     "execution_count": 11,
     "metadata": {},
     "output_type": "execute_result"
    }
   ],
   "source": [
    "f4"
   ]
  },
  {
   "cell_type": "code",
   "execution_count": 12,
   "metadata": {},
   "outputs": [
    {
     "data": {
      "text/plain": [
       "([1, 2, 3, 4, 5, 6], [0, 3, 6, 1, 7, 1])"
      ]
     },
     "execution_count": 12,
     "metadata": {},
     "output_type": "execute_result"
    }
   ],
   "source": [
    "f6"
   ]
  },
  {
   "cell_type": "code",
   "execution_count": 13,
   "metadata": {},
   "outputs": [
    {
     "data": {
      "text/plain": [
       "([1, 2, 3, 4, 5, 6, 7], [1, 3, 5, 7, 9, 2, 5])"
      ]
     },
     "execution_count": 13,
     "metadata": {},
     "output_type": "execute_result"
    }
   ],
   "source": [
    "f7"
   ]
  },
  {
   "cell_type": "code",
   "execution_count": 14,
   "metadata": {},
   "outputs": [
    {
     "name": "stdout",
     "output_type": "stream",
     "text": [
      "9\n"
     ]
    }
   ],
   "source": [
    "x1 = t.tensor.vector('x1',dtype = 'int32')\n",
    "x1 = 9\n",
    "print(x1)"
   ]
  },
  {
   "cell_type": "code",
   "execution_count": 19,
   "metadata": {},
   "outputs": [
    {
     "name": "stdout",
     "output_type": "stream",
     "text": [
      "Before: [0.5 0.9 3.  0.4 0.6]\n",
      "After [0.11 0.2  0.4  0.2  0.1 ]\n"
     ]
    }
   ],
   "source": [
    "import numpy as np\n",
    "W = t.shared(np.asarray([0.5,0.9,3,0.4,0.6]),'W') #weights\n",
    "print(\"Before:\",W.get_value()) #original values\n",
    "W.set_value([0.11, 0.2, 0.4, 0.2,0.1]) # updating new values\n",
    "print(\"After\",W.get_value())"
   ]
  },
  {
   "cell_type": "code",
   "execution_count": null,
   "metadata": {},
   "outputs": [],
   "source": []
  }
 ],
 "metadata": {
  "kernelspec": {
   "display_name": "Python 3",
   "language": "python",
   "name": "python3"
  },
  "language_info": {
   "codemirror_mode": {
    "name": "ipython",
    "version": 3
   },
   "file_extension": ".py",
   "mimetype": "text/x-python",
   "name": "python",
   "nbconvert_exporter": "python",
   "pygments_lexer": "ipython3",
   "version": "3.7.6"
  }
 },
 "nbformat": 4,
 "nbformat_minor": 4
}
